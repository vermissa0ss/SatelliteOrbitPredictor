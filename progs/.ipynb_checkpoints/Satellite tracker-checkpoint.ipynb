{
 "cells": [
  {
   "cell_type": "markdown",
   "id": "11d0476a",
   "metadata": {},
   "source": [
    "## Main code\n",
    "In this main function, we are getting a list of all the available satellite IDs from the dictionary which was generated prior from the parsed TLE file.\n",
    "Looping through the satellite IDs allows us to pass this variable as a function input to `plot_orbit.plot_specific_orbit()`\n",
    "\n",
    "**INPUTS**:\\\n",
    "Satellite ID, GraphType\\\n",
    "for example: `plot_orbit.plot_specific_orbit(key, \"Animation\")`\n",
    "\n",
    "**Outputs**:\\\n",
    "Animation: HTML in the same directory as the notebook\\\n",
    "3d: 3D Graph\\\n",
    "Ground track: 2D Graph"
   ]
  },
  {
   "cell_type": "code",
   "execution_count": 1,
   "id": "045e5cb0",
   "metadata": {
    "scrolled": false
   },
   "outputs": [
    {
     "name": "stdout",
     "output_type": "stream",
     "text": [
      "Reading TLE file  deps/GPS.TLE\n"
     ]
    },
    {
     "ename": "FileNotFoundError",
     "evalue": "[Errno 2] No such file or directory: 'deps/GPS.TLE'",
     "output_type": "error",
     "traceback": [
      "\u001b[1;31m---------------------------------------------------------------------------\u001b[0m",
      "\u001b[1;31mFileNotFoundError\u001b[0m                         Traceback (most recent call last)",
      "Input \u001b[1;32mIn [1]\u001b[0m, in \u001b[0;36m<cell line: 17>\u001b[1;34m()\u001b[0m\n\u001b[0;32m     14\u001b[0m         \u001b[38;5;28;01mbreak\u001b[39;00m\n\u001b[0;32m     17\u001b[0m \u001b[38;5;28;01mif\u001b[39;00m \u001b[38;5;18m__name__\u001b[39m \u001b[38;5;241m==\u001b[39m \u001b[38;5;124m\"\u001b[39m\u001b[38;5;124m__main__\u001b[39m\u001b[38;5;124m\"\u001b[39m:\n\u001b[1;32m---> 18\u001b[0m      \u001b[43mmain\u001b[49m\u001b[43m(\u001b[49m\u001b[43m)\u001b[49m\n",
      "Input \u001b[1;32mIn [1]\u001b[0m, in \u001b[0;36mmain\u001b[1;34m()\u001b[0m\n\u001b[0;32m      3\u001b[0m \u001b[38;5;28;01mdef\u001b[39;00m \u001b[38;5;21mmain\u001b[39m():\n\u001b[0;32m      4\u001b[0m     \n\u001b[0;32m      5\u001b[0m     \u001b[38;5;66;03m# Get the satellite IDs\u001b[39;00m\n\u001b[1;32m----> 6\u001b[0m     multiple_tle_data_dic \u001b[38;5;241m=\u001b[39m \u001b[43mm_PShared\u001b[49m\u001b[38;5;241;43m.\u001b[39;49m\u001b[43mget_gps_sats\u001b[49m\u001b[43m(\u001b[49m\u001b[43m)\u001b[49m\n\u001b[0;32m      7\u001b[0m     orbit_key\u001b[38;5;241m=\u001b[39mmultiple_tle_data_dic\u001b[38;5;241m.\u001b[39mkeys()\n\u001b[0;32m      9\u001b[0m     \u001b[38;5;66;03m# key is satellite ID to plot (eg. PRN 13)\u001b[39;00m\n",
      "File \u001b[1;32m~\\Documents\\SatelliteOrbitPredictor\\progs\\shared_data.py:18\u001b[0m, in \u001b[0;36mm_PShared.get_gps_sats\u001b[1;34m()\u001b[0m\n\u001b[0;32m     12\u001b[0m \u001b[38;5;28;01mdef\u001b[39;00m \u001b[38;5;21mget_gps_sats\u001b[39m():\n\u001b[0;32m     13\u001b[0m     \u001b[38;5;66;03m# Input: void\u001b[39;00m\n\u001b[0;32m     14\u001b[0m     \u001b[38;5;66;03m# Output: GPS satellites dictionary\u001b[39;00m\n\u001b[0;32m     15\u001b[0m     \u001b[38;5;66;03m# Each element in the dictionary has a key associated with satellite code name\u001b[39;00m\n\u001b[0;32m     16\u001b[0m     \u001b[38;5;66;03m# For example key PRN 13 will return an arrya of two. each index is one line of two line string for that satellite\u001b[39;00m\n\u001b[0;32m     17\u001b[0m     multiFileProcessor \u001b[38;5;241m=\u001b[39m process_multiple_TLEs()\n\u001b[1;32m---> 18\u001b[0m     gps_sats \u001b[38;5;241m=\u001b[39m \u001b[43mmultiFileProcessor\u001b[49m\u001b[38;5;241;43m.\u001b[39;49m\u001b[43mload_TLE\u001b[49m\u001b[43m(\u001b[49m\u001b[38;5;124;43m\"\u001b[39;49m\u001b[38;5;124;43mdeps/GPS.TLE\u001b[39;49m\u001b[38;5;124;43m\"\u001b[39;49m\u001b[43m)\u001b[49m\n\u001b[0;32m     19\u001b[0m     \u001b[38;5;28;01mreturn\u001b[39;00m gps_sats\n",
      "File \u001b[1;32m~\\Documents\\SatelliteOrbitPredictor\\progs\\tle_processor.py:9\u001b[0m, in \u001b[0;36mprocess_multiple_TLEs.load_TLE\u001b[1;34m(self, TLE_file)\u001b[0m\n\u001b[0;32m      4\u001b[0m \u001b[38;5;28;01mdef\u001b[39;00m \u001b[38;5;21mload_TLE\u001b[39m(\u001b[38;5;28mself\u001b[39m, TLE_file):\n\u001b[0;32m      5\u001b[0m     \u001b[38;5;66;03m# Input: TLE file location\u001b[39;00m\n\u001b[0;32m      6\u001b[0m     \u001b[38;5;66;03m# Output: Dictionary of multiple satellites with 2line elements as values\u001b[39;00m\n\u001b[0;32m      8\u001b[0m     \u001b[38;5;28mprint\u001b[39m(\u001b[38;5;124m'\u001b[39m\u001b[38;5;124mReading TLE file \u001b[39m\u001b[38;5;124m'\u001b[39m, TLE_file)\n\u001b[1;32m----> 9\u001b[0m     txtFile \u001b[38;5;241m=\u001b[39m \u001b[38;5;28;43mopen\u001b[39;49m\u001b[43m(\u001b[49m\u001b[43mTLE_file\u001b[49m\u001b[43m)\u001b[49m\u001b[38;5;241m.\u001b[39mread() \u001b[38;5;66;03m#read file\u001b[39;00m\n\u001b[0;32m     10\u001b[0m     loaded_lines \u001b[38;5;241m=\u001b[39m txtFile\u001b[38;5;241m.\u001b[39msplit(\u001b[38;5;124m\"\u001b[39m\u001b[38;5;130;01m\\n\u001b[39;00m\u001b[38;5;124m\"\u001b[39m) \u001b[38;5;66;03m#split at every new line\u001b[39;00m\n\u001b[0;32m     12\u001b[0m     \u001b[38;5;66;03m# basic TLE format for each satellite consists of three lines.\u001b[39;00m\n\u001b[0;32m     13\u001b[0m     \u001b[38;5;66;03m# Line1 = GPS satellite code ID or name known as PRN\u001b[39;00m\n\u001b[0;32m     14\u001b[0m     \u001b[38;5;66;03m# Line 2 = line number 1\u001b[39;00m\n\u001b[0;32m     15\u001b[0m     \u001b[38;5;66;03m# Line 3 = line number 2 \u001b[39;00m\n\u001b[0;32m     16\u001b[0m     \u001b[38;5;66;03m#Create a dictionary made of only PRN code as key ([-7:-1]). and keep the next two lines as its values\u001b[39;00m\n",
      "\u001b[1;31mFileNotFoundError\u001b[0m: [Errno 2] No such file or directory: 'deps/GPS.TLE'"
     ]
    }
   ],
   "source": [
    "from shared_data import m_PShared\n",
    "from plot import  plot_orbit\n",
    "def main():\n",
    "    \n",
    "    # Get the satellite IDs\n",
    "    multiple_tle_data_dic = m_PShared.get_gps_sats()\n",
    "    orbit_key=multiple_tle_data_dic.keys()\n",
    "    \n",
    "    # key is satellite ID to plot (eg. PRN 13)\n",
    "    for key in orbit_key:\n",
    "        plot_orbit.plot_specific_orbit(key, \"Animation\") #graphType = Animation, 3d, GroundTracks\n",
    "        plot_orbit.plot_specific_orbit(key, \"3d\") #graphType = Animation, 3d, GroundTracks\n",
    "        plot_orbit.plot_specific_orbit(key, \"GroundTracks\") #graphType = Animation, 3d, GroundTracks\n",
    "        break\n",
    "   \n",
    "\n",
    "if __name__ == \"__main__\":\n",
    "     main()"
   ]
  }
 ],
 "metadata": {
  "kernelspec": {
   "display_name": "Python 3 (ipykernel)",
   "language": "python",
   "name": "python3"
  },
  "language_info": {
   "codemirror_mode": {
    "name": "ipython",
    "version": 3
   },
   "file_extension": ".py",
   "mimetype": "text/x-python",
   "name": "python",
   "nbconvert_exporter": "python",
   "pygments_lexer": "ipython3",
   "version": "3.9.12"
  }
 },
 "nbformat": 4,
 "nbformat_minor": 5
}
